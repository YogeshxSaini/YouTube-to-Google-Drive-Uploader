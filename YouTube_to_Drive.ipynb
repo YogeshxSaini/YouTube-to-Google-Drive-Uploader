{
  "cells": [
    {
      "cell_type": "code",
      "execution_count": null,
      "id": "1a000cac",
      "metadata": {
        "id": "1a000cac"
      },
      "outputs": [],
      "source": [
        "# Step 1: Mount Google Drive\n",
        "from google.colab import drive\n",
        "drive.mount('/content/drive')"
      ]
    },
    {
      "cell_type": "code",
      "execution_count": null,
      "id": "f5ead99e",
      "metadata": {
        "id": "f5ead99e"
      },
      "outputs": [],
      "source": [
        "# Step 2: Install yt-dlp and ffmpeg\n",
        "!pip install yt-dlp\n",
        "!apt-get install -y ffmpeg"
      ]
    },
    {
      "cell_type": "code",
      "execution_count": null,
      "id": "bb6be99b",
      "metadata": {
        "id": "bb6be99b"
      },
      "outputs": [],
      "source": [
        "# Step 3: Ask for YouTube URL\n",
        "video_url = input(\"Enter YouTube URL: \")"
      ]
    },
    {
      "cell_type": "code",
      "execution_count": null,
      "id": "f5921b73",
      "metadata": {
        "id": "f5921b73"
      },
      "outputs": [],
      "source": [
        "# Step 4: Get all available formats\n",
        "import yt_dlp"
      ]
    },
    {
      "cell_type": "code",
      "execution_count": null,
      "id": "ded4ec4b",
      "metadata": {
        "id": "ded4ec4b"
      },
      "outputs": [],
      "source": [
        "ydl_opts = {'quiet': True, 'skip_download': True}\n",
        "with yt_dlp.YoutubeDL(ydl_opts) as ydl:\n",
        "    info_dict = ydl.extract_info(video_url, download=False)\n",
        "    formats = info_dict['formats']"
      ]
    },
    {
      "cell_type": "code",
      "execution_count": null,
      "id": "cec68724",
      "metadata": {
        "id": "cec68724"
      },
      "outputs": [],
      "source": [
        "# Step 5: Build a friendly resolution list\n",
        "video_formats = []\n",
        "for f in formats:\n",
        "    if f.get('vcodec') != 'none':\n",
        "        res = f.get('resolution') or f.get('height')\n",
        "        ext = f.get('ext')\n",
        "        format_id = f.get('format_id')\n",
        "\n",
        "        # Parse resolution if it's in \"WIDTHxHEIGHT\" format\n",
        "        if isinstance(res, str) and 'x' in res:\n",
        "            try:\n",
        "                res = int(res.split('x')[1])\n",
        "            except:\n",
        "                res = 0\n",
        "        elif res is None:\n",
        "            res = 0\n",
        "\n",
        "        video_formats.append((format_id, res, ext))"
      ]
    },
    {
      "cell_type": "code",
      "execution_count": null,
      "id": "715e28ee",
      "metadata": {
        "id": "715e28ee"
      },
      "outputs": [],
      "source": [
        "# Remove duplicates by resolution and sort\n",
        "seen = set()\n",
        "friendly_formats = []\n",
        "for f in sorted(video_formats, key=lambda x: x[1]):\n",
        "    if f[1] not in seen:\n",
        "        friendly_formats.append(f)\n",
        "        seen.add(f[1])"
      ]
    },
    {
      "cell_type": "code",
      "execution_count": null,
      "id": "e6534733",
      "metadata": {
        "id": "e6534733"
      },
      "outputs": [],
      "source": [
        "# Step 6: Show available resolutions\n",
        "print(\"\\nAvailable video resolutions:\")\n",
        "for idx, (fid, res, ext) in enumerate(friendly_formats):\n",
        "    print(f\"{idx + 1}: {res}p ({ext}) - format code {fid}\")"
      ]
    },
    {
      "cell_type": "code",
      "execution_count": null,
      "id": "2aaa74d3",
      "metadata": {
        "id": "2aaa74d3"
      },
      "outputs": [],
      "source": [
        "choice = int(input(\"\\nEnter the number for desired resolution: \")) - 1\n",
        "chosen_format_id = friendly_formats[choice][0]"
      ]
    },
    {
      "cell_type": "code",
      "execution_count": null,
      "id": "4793c6be",
      "metadata": {
        "id": "4793c6be"
      },
      "outputs": [],
      "source": [
        "# Step 7: Choose best audio format automatically\n",
        "audio_formats = [f for f in formats if f.get('acodec') != 'none']\n",
        "best_audio = max(audio_formats, key=lambda x: x.get('abr') or 0)\n",
        "audio_format_id = best_audio['format_id']"
      ]
    },
    {
      "cell_type": "code",
      "execution_count": null,
      "id": "8675566b",
      "metadata": {
        "id": "8675566b"
      },
      "outputs": [],
      "source": [
        "print(f\"Selected audio format: {audio_format_id} ({best_audio.get('ext')}, {best_audio.get('abr')}kbps)\")"
      ]
    },
    {
      "cell_type": "code",
      "execution_count": null,
      "id": "e1073c5b",
      "metadata": {
        "id": "e1073c5b"
      },
      "outputs": [],
      "source": [
        "# Step 8: Set output path\n",
        "output_path = \"/content/drive/MyDrive/%(title)s.%(ext)s\""
      ]
    },
    {
      "cell_type": "code",
      "source": [
        "!yt-dlp -f {chosen_format_id}+{audio_format_id} --merge-output-format mp4 -o \"{output_path}\" \"{video_url}\"\n",
        "\n",
        "print(\"\\nDownload completed! Check your Google Drive. Video is playable with audio.\")"
      ],
      "metadata": {
        "id": "5Cn0Nf8jSQ8R"
      },
      "id": "5Cn0Nf8jSQ8R",
      "execution_count": null,
      "outputs": []
    }
  ],
  "metadata": {
    "jupytext": {
      "cell_metadata_filter": "-all",
      "main_language": "python",
      "notebook_metadata_filter": "-all"
    },
    "kernelspec": {
      "display_name": "Python 3",
      "language": "python",
      "name": "python3"
    },
    "language_info": {
      "codemirror_mode": {
        "name": "ipython",
        "version": 3
      },
      "file_extension": ".py",
      "mimetype": "text/x-python",
      "name": "python",
      "nbconvert_exporter": "python",
      "pygments_lexer": "ipython3",
      "version": "3.10.0"
    },
    "colab": {
      "provenance": []
    }
  },
  "nbformat": 4,
  "nbformat_minor": 5
}